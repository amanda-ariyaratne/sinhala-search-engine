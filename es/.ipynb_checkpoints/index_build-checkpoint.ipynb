{
 "cells": [
  {
   "cell_type": "code",
   "execution_count": 1,
   "metadata": {},
   "outputs": [
    {
     "name": "stdout",
     "output_type": "stream",
     "text": [
      "Collecting package metadata (current_repodata.json): done\n",
      "Solving environment: done\n",
      "\n",
      "# All requested packages already installed.\n",
      "\n",
      "Collecting package metadata (current_repodata.json): done\n",
      "Solving environment: done\n",
      "\n",
      "# All requested packages already installed.\n",
      "\n"
     ]
    }
   ],
   "source": [
    "import sys\n",
    "import os\n",
    "import json\n",
    "!conda install --yes --prefix {sys.prefix} elasticsearch\n",
    "!conda install --yes --prefix {sys.prefix} elasticsearch-dsl\n",
    "from elasticsearch import Elasticsearch\n",
    "from elasticsearch import helpers\n",
    "from elasticsearch_dsl import Search"
   ]
  },
  {
   "cell_type": "code",
   "execution_count": 2,
   "metadata": {},
   "outputs": [],
   "source": [
    "def load_json_file(file):\n",
    "    data = []\n",
    "    if os.path.exists(file):\n",
    "        for line in open(file, 'r'):\n",
    "            data.append(json.loads(line))\n",
    "        return data\n",
    "    else:\n",
    "        return(\"File does not exist\")"
   ]
  },
  {
   "cell_type": "code",
   "execution_count": 3,
   "metadata": {},
   "outputs": [],
   "source": [
    "def get_list_by_chunk_size(original_list, batch_size):\n",
    "    # looping till length equals batch_size\n",
    "    for i in range(0, len(original_list), batch_size):  \n",
    "        yield original_list[i:i + batch_size] "
   ]
  },
  {
   "cell_type": "code",
   "execution_count": 4,
   "metadata": {},
   "outputs": [],
   "source": [
    "def bulk_insert_data_to_es(elasticsearch_connection, data, index, bulk_size=100):\n",
    "    try:\n",
    "        batch_data = get_list_by_chunk_size(data, bulk_size)\n",
    "        for batch in batch_data:\n",
    "            count = 0\n",
    "            actions = []\n",
    "            while count <= len(batch) - 1:\n",
    "                action = {\n",
    "                    \"_index\": index,\n",
    "                    \"_source\": {}\n",
    "                }\n",
    "                action[\"_source\"] = batch[count]\n",
    "                actions.append(action)\n",
    "                count = count + 1\n",
    "            helpers.bulk(elasticsearch_connection, actions)\n",
    "        return True\n",
    "    except:\n",
    "        e = sys.exc_info()\n",
    "        print(\"Bulk insertion job failed\")\n",
    "        print(e)\n",
    "        return False"
   ]
  },
  {
   "cell_type": "code",
   "execution_count": 5,
   "metadata": {},
   "outputs": [],
   "source": [
    "def get_stopwords():\n",
    "    stop_words = []\n",
    "    with open(os.getcwd() + \"/util\" + \"/sinhala_stopwords.txt\", 'r') as f:\n",
    "        for word in f:\n",
    "            stop_words.append(word.strip())\n",
    "    return stop_words"
   ]
  },
  {
   "cell_type": "code",
   "execution_count": 6,
   "metadata": {},
   "outputs": [
    {
     "name": "stderr",
     "output_type": "stream",
     "text": [
      "/Users/amanda-ariyaratne/opt/anaconda3/lib/python3.8/site-packages/elasticsearch/connection/base.py:208: ElasticsearchWarning: Elasticsearch built-in security features are not enabled. Without authentication, your cluster could be accessible to anyone. See https://www.elastic.co/guide/en/elasticsearch/reference/7.15/security-minimal-setup.html to enable security.\n",
      "  warnings.warn(message, category=ElasticsearchWarning)\n",
      "/Users/amanda-ariyaratne/opt/anaconda3/lib/python3.8/site-packages/elasticsearch/connection/base.py:208: ElasticsearchWarning: setting [action.destructive_requires_name] will default to true in 8.0, set explicitly to false to preserve current behavior\n",
      "  warnings.warn(message, category=ElasticsearchWarning)\n"
     ]
    },
    {
     "data": {
      "text/plain": [
       "{'acknowledged': True}"
      ]
     },
     "execution_count": 6,
     "metadata": {},
     "output_type": "execute_result"
    }
   ],
   "source": [
    "es_connection = Elasticsearch('http://localhost:9200')\n",
    "es_connection.indices.delete(index=\"artists-*\")"
   ]
  },
  {
   "cell_type": "code",
   "execution_count": 7,
   "metadata": {},
   "outputs": [],
   "source": [
    "stopwords = get_stopwords()\n",
    "mapping = {\n",
    "    \"settings\" : {\n",
    "        \"analysis\" : {\n",
    "            \"analyzer\" : {\n",
    "                \"sinhala_analyzer\" : {\n",
    "                    \"type\": \"standard\",\n",
    "                    \"stopwords\": stopwords\n",
    "                }\n",
    "            }\n",
    "        } \n",
    "    },\n",
    "    \"aliases\": { \n",
    "        \"artists\": { \n",
    "            \"is_write_index\": True \n",
    "        }\n",
    "    },\n",
    "    \"mappings\" : {\n",
    "        \"properties\" : {\n",
    "            \"awards\" : {\n",
    "                \"properties\" : {\n",
    "                    \"instituition\" : {\n",
    "                        \"type\" : \"text\",\n",
    "                        \"analyzer\" : \"sinhala_analyzer\",\n",
    "                        \"fields\" : {\n",
    "                            \"keyword\" : {\n",
    "                                \"type\" : \"keyword\",\n",
    "                                \"ignore_above\" : 256\n",
    "                            }\n",
    "                        }\n",
    "                    },\n",
    "                    \"title\" : {\n",
    "                        \"type\" : \"text\",\n",
    "                        \"analyzer\" : \"sinhala_analyzer\",\n",
    "                        \"fields\" : {\n",
    "                            \"keyword\" : {\n",
    "                                \"type\" : \"keyword\",\n",
    "                                \"ignore_above\" : 256\n",
    "                            }\n",
    "                        }\n",
    "                    }\n",
    "                }\n",
    "            },\n",
    "            \"bio\" : {\n",
    "                \"type\" : \"text\",\n",
    "                \"analyzer\" : \"sinhala_analyzer\"\n",
    "            },\n",
    "            \"birth\" : {\n",
    "                \"type\" : \"text\",\n",
    "                \"analyzer\" : \"sinhala_analyzer\",\n",
    "            },\n",
    "            \"death\" : {\n",
    "                \"type\" : \"text\",\n",
    "                \"analyzer\" : \"sinhala_analyzer\",\n",
    "            },\n",
    "            \"films\" : {\n",
    "                \"properties\" : {\n",
    "                    \"role\" : {\n",
    "                        \"type\" : \"text\",\n",
    "                        \"analyzer\" : \"sinhala_analyzer\",\n",
    "                        \"fields\" : {\n",
    "                            \"keyword\" : {\n",
    "                                \"type\" : \"keyword\",\n",
    "                                \"ignore_above\" : 256\n",
    "                            }\n",
    "                        }\n",
    "                    },\n",
    "                    \"title\" : {\n",
    "                        \"type\" : \"text\",\n",
    "                        \"analyzer\" : \"sinhala_analyzer\",\n",
    "                        \"fields\" : {\n",
    "                            \"keyword\" : {\n",
    "                                \"type\" : \"keyword\",\n",
    "                                \"ignore_above\" : 256\n",
    "                            }\n",
    "                        }\n",
    "                    },\n",
    "                    \"year\" : {\n",
    "                      \"type\" : \"long\"\n",
    "                    }\n",
    "                }\n",
    "            },\n",
    "            \"id\" : {\n",
    "                \"type\" : \"long\"\n",
    "            },\n",
    "            \"name\" : {\n",
    "                \"type\" : \"text\",\n",
    "                \"analyzer\" : \"sinhala_analyzer\",\n",
    "                \"fields\" : {\n",
    "                    \"keyword\" : {\n",
    "                        \"type\" : \"keyword\",\n",
    "                        \"ignore_above\" : 256\n",
    "                    }\n",
    "                }\n",
    "            },\n",
    "            \"real_name\" : {\n",
    "                \"type\" : \"text\",\n",
    "                \"analyzer\" : \"sinhala_analyzer\",\n",
    "                \"fields\" : {\n",
    "                    \"keyword\" : {\n",
    "                      \"type\" : \"keyword\",\n",
    "                      \"ignore_above\" : 256\n",
    "                    }\n",
    "                }\n",
    "            }\n",
    "      }\n",
    "    }\n",
    "}"
   ]
  },
  {
   "cell_type": "code",
   "execution_count": 8,
   "metadata": {},
   "outputs": [
    {
     "data": {
      "text/plain": [
       "{'acknowledged': True, 'shards_acknowledged': True, 'index': 'artists-000001'}"
      ]
     },
     "execution_count": 8,
     "metadata": {},
     "output_type": "execute_result"
    }
   ],
   "source": [
    "es_connection.indices.create(index=\"artists-000001\", body=mapping)"
   ]
  },
  {
   "cell_type": "code",
   "execution_count": 9,
   "metadata": {},
   "outputs": [
    {
     "name": "stdout",
     "output_type": "stream",
     "text": [
      "Bulk insertion job failed\n",
      "(<class 'elasticsearch.helpers.errors.BulkIndexError'>, BulkIndexError('19 document(s) failed to index.', [{'index': {'_index': 'artists-000001', '_type': '_doc', '_id': 'dEmqMX0ByuuP2Z3ngdJx', 'status': 400, 'error': {'type': 'mapper_parsing_exception', 'reason': 'failed to parse', 'caused_by': {'type': 'not_x_content_exception', 'reason': 'Compressor detection can only be called on some xcontent bytes or compressed xcontent bytes'}}, 'data': 'F'}}, {'index': {'_index': 'artists-000001', '_type': '_doc', '_id': 'dUmqMX0ByuuP2Z3ngdJz', 'status': 400, 'error': {'type': 'mapper_parsing_exception', 'reason': 'failed to parse', 'caused_by': {'type': 'not_x_content_exception', 'reason': 'Compressor detection can only be called on some xcontent bytes or compressed xcontent bytes'}}, 'data': 'i'}}, {'index': {'_index': 'artists-000001', '_type': '_doc', '_id': 'dkmqMX0ByuuP2Z3ngdJz', 'status': 400, 'error': {'type': 'mapper_parsing_exception', 'reason': 'failed to parse', 'caused_by': {'type': 'not_x_content_exception', 'reason': 'Compressor detection can only be called on some xcontent bytes or compressed xcontent bytes'}}, 'data': 'l'}}, {'index': {'_index': 'artists-000001', '_type': '_doc', '_id': 'd0mqMX0ByuuP2Z3ngdJz', 'status': 400, 'error': {'type': 'mapper_parsing_exception', 'reason': 'failed to parse', 'caused_by': {'type': 'not_x_content_exception', 'reason': 'Compressor detection can only be called on some xcontent bytes or compressed xcontent bytes'}}, 'data': 'e'}}, {'index': {'_index': 'artists-000001', '_type': '_doc', '_id': 'eEmqMX0ByuuP2Z3ngdJz', 'status': 400, 'error': {'type': 'mapper_parsing_exception', 'reason': 'failed to parse', 'caused_by': {'type': 'not_x_content_exception', 'reason': 'Compressor detection can only be called on some xcontent bytes or compressed xcontent bytes'}}, 'data': ' '}}, {'index': {'_index': 'artists-000001', '_type': '_doc', '_id': 'eUmqMX0ByuuP2Z3ngdJz', 'status': 400, 'error': {'type': 'mapper_parsing_exception', 'reason': 'failed to parse', 'caused_by': {'type': 'not_x_content_exception', 'reason': 'Compressor detection can only be called on some xcontent bytes or compressed xcontent bytes'}}, 'data': 'd'}}, {'index': {'_index': 'artists-000001', '_type': '_doc', '_id': 'ekmqMX0ByuuP2Z3ngdJz', 'status': 400, 'error': {'type': 'mapper_parsing_exception', 'reason': 'failed to parse', 'caused_by': {'type': 'not_x_content_exception', 'reason': 'Compressor detection can only be called on some xcontent bytes or compressed xcontent bytes'}}, 'data': 'o'}}, {'index': {'_index': 'artists-000001', '_type': '_doc', '_id': 'e0mqMX0ByuuP2Z3ngdJz', 'status': 400, 'error': {'type': 'mapper_parsing_exception', 'reason': 'failed to parse', 'caused_by': {'type': 'not_x_content_exception', 'reason': 'Compressor detection can only be called on some xcontent bytes or compressed xcontent bytes'}}, 'data': 'e'}}, {'index': {'_index': 'artists-000001', '_type': '_doc', '_id': 'fEmqMX0ByuuP2Z3ngdJz', 'status': 400, 'error': {'type': 'mapper_parsing_exception', 'reason': 'failed to parse', 'caused_by': {'type': 'not_x_content_exception', 'reason': 'Compressor detection can only be called on some xcontent bytes or compressed xcontent bytes'}}, 'data': 's'}}, {'index': {'_index': 'artists-000001', '_type': '_doc', '_id': 'fUmqMX0ByuuP2Z3ngdJz', 'status': 400, 'error': {'type': 'mapper_parsing_exception', 'reason': 'failed to parse', 'caused_by': {'type': 'not_x_content_exception', 'reason': 'Compressor detection can only be called on some xcontent bytes or compressed xcontent bytes'}}, 'data': ' '}}, {'index': {'_index': 'artists-000001', '_type': '_doc', '_id': 'fkmqMX0ByuuP2Z3ngdJz', 'status': 400, 'error': {'type': 'mapper_parsing_exception', 'reason': 'failed to parse', 'caused_by': {'type': 'not_x_content_exception', 'reason': 'Compressor detection can only be called on some xcontent bytes or compressed xcontent bytes'}}, 'data': 'n'}}, {'index': {'_index': 'artists-000001', '_type': '_doc', '_id': 'f0mqMX0ByuuP2Z3ngdJz', 'status': 400, 'error': {'type': 'mapper_parsing_exception', 'reason': 'failed to parse', 'caused_by': {'type': 'not_x_content_exception', 'reason': 'Compressor detection can only be called on some xcontent bytes or compressed xcontent bytes'}}, 'data': 'o'}}, {'index': {'_index': 'artists-000001', '_type': '_doc', '_id': 'gEmqMX0ByuuP2Z3ngdJz', 'status': 400, 'error': {'type': 'mapper_parsing_exception', 'reason': 'failed to parse', 'caused_by': {'type': 'not_x_content_exception', 'reason': 'Compressor detection can only be called on some xcontent bytes or compressed xcontent bytes'}}, 'data': 't'}}, {'index': {'_index': 'artists-000001', '_type': '_doc', '_id': 'gUmqMX0ByuuP2Z3ngdJz', 'status': 400, 'error': {'type': 'mapper_parsing_exception', 'reason': 'failed to parse', 'caused_by': {'type': 'not_x_content_exception', 'reason': 'Compressor detection can only be called on some xcontent bytes or compressed xcontent bytes'}}, 'data': ' '}}, {'index': {'_index': 'artists-000001', '_type': '_doc', '_id': 'gkmqMX0ByuuP2Z3ngdJz', 'status': 400, 'error': {'type': 'mapper_parsing_exception', 'reason': 'failed to parse', 'caused_by': {'type': 'not_x_content_exception', 'reason': 'Compressor detection can only be called on some xcontent bytes or compressed xcontent bytes'}}, 'data': 'e'}}, {'index': {'_index': 'artists-000001', '_type': '_doc', '_id': 'g0mqMX0ByuuP2Z3ngdJz', 'status': 400, 'error': {'type': 'mapper_parsing_exception', 'reason': 'failed to parse', 'caused_by': {'type': 'not_x_content_exception', 'reason': 'Compressor detection can only be called on some xcontent bytes or compressed xcontent bytes'}}, 'data': 'x'}}, {'index': {'_index': 'artists-000001', '_type': '_doc', '_id': 'hEmqMX0ByuuP2Z3ngdJz', 'status': 400, 'error': {'type': 'mapper_parsing_exception', 'reason': 'failed to parse', 'caused_by': {'type': 'not_x_content_exception', 'reason': 'Compressor detection can only be called on some xcontent bytes or compressed xcontent bytes'}}, 'data': 'i'}}, {'index': {'_index': 'artists-000001', '_type': '_doc', '_id': 'hUmqMX0ByuuP2Z3ngdJz', 'status': 400, 'error': {'type': 'mapper_parsing_exception', 'reason': 'failed to parse', 'caused_by': {'type': 'not_x_content_exception', 'reason': 'Compressor detection can only be called on some xcontent bytes or compressed xcontent bytes'}}, 'data': 's'}}, {'index': {'_index': 'artists-000001', '_type': '_doc', '_id': 'hkmqMX0ByuuP2Z3ngdJz', 'status': 400, 'error': {'type': 'mapper_parsing_exception', 'reason': 'failed to parse', 'caused_by': {'type': 'not_x_content_exception', 'reason': 'Compressor detection can only be called on some xcontent bytes or compressed xcontent bytes'}}, 'data': 't'}}]), <traceback object at 0x7fe6680522c0>)\n"
     ]
    },
    {
     "data": {
      "text/plain": [
       "False"
      ]
     },
     "execution_count": 9,
     "metadata": {},
     "output_type": "execute_result"
    }
   ],
   "source": [
    "artist_data = load_json_file(os.getcwd() + '/corpus/artists.json')\n",
    "bulk_insert_data_to_es(es_connection, artist_data, \"artists\")"
   ]
  },
  {
   "cell_type": "code",
   "execution_count": null,
   "metadata": {},
   "outputs": [],
   "source": []
  }
 ],
 "metadata": {
  "kernelspec": {
   "display_name": "Python 3 (ipykernel)",
   "language": "python",
   "name": "python3"
  },
  "language_info": {
   "codemirror_mode": {
    "name": "ipython",
    "version": 3
   },
   "file_extension": ".py",
   "mimetype": "text/x-python",
   "name": "python",
   "nbconvert_exporter": "python",
   "pygments_lexer": "ipython3",
   "version": "3.8.12"
  }
 },
 "nbformat": 4,
 "nbformat_minor": 4
}
