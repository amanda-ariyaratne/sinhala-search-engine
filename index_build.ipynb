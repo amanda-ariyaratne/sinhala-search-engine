{
 "cells": [
  {
   "cell_type": "code",
   "execution_count": 112,
   "metadata": {},
   "outputs": [
    {
     "name": "stdout",
     "output_type": "stream",
     "text": [
      "Collecting package metadata (current_repodata.json): done\n",
      "Solving environment: done\n",
      "\n",
      "# All requested packages already installed.\n",
      "\n",
      "Collecting package metadata (current_repodata.json): done\n",
      "Solving environment: done\n",
      "\n",
      "# All requested packages already installed.\n",
      "\n"
     ]
    }
   ],
   "source": [
    "import sys\n",
    "import os\n",
    "import json\n",
    "!conda install --yes --prefix {sys.prefix} elasticsearch\n",
    "!conda install --yes --prefix {sys.prefix} elasticsearch-dsl\n",
    "from elasticsearch import Elasticsearch\n",
    "from elasticsearch import helpers\n",
    "from elasticsearch_dsl import Search"
   ]
  },
  {
   "cell_type": "code",
   "execution_count": 113,
   "metadata": {},
   "outputs": [],
   "source": [
    "def load_json_file(file):\n",
    "    data = []\n",
    "    if os.path.exists(file):\n",
    "        for line in open(file, 'r'):\n",
    "            data.append(json.loads(line))\n",
    "        return data\n",
    "    else:\n",
    "        return(\"File does not exist\")"
   ]
  },
  {
   "cell_type": "code",
   "execution_count": 114,
   "metadata": {},
   "outputs": [],
   "source": [
    "def get_list_by_chunk_size(original_list, batch_size):\n",
    "    # looping till length equals batch_size\n",
    "    for i in range(0, len(original_list), batch_size):  \n",
    "        yield original_list[i:i + batch_size] "
   ]
  },
  {
   "cell_type": "code",
   "execution_count": 115,
   "metadata": {},
   "outputs": [],
   "source": [
    "def bulk_insert_data_to_es(elasticsearch_connection, data, index, bulk_size=100):\n",
    "    try:\n",
    "        batch_data = get_list_by_chunk_size(data, bulk_size)\n",
    "        for batch in batch_data:\n",
    "            count = 0\n",
    "            actions = []\n",
    "            while count <= len(batch) - 1:\n",
    "                action = {\n",
    "                    \"_index\": index,\n",
    "                    \"_source\": {}\n",
    "                }\n",
    "                action[\"_source\"] = batch[count]\n",
    "                actions.append(action)\n",
    "                count = count + 1\n",
    "            helpers.bulk(elasticsearch_connection, actions)\n",
    "        return True\n",
    "    except:\n",
    "        e = sys.exc_info()\n",
    "        print(\"Bulk insertion job failed\")\n",
    "        print(e)\n",
    "        return False"
   ]
  },
  {
   "cell_type": "code",
   "execution_count": 116,
   "metadata": {},
   "outputs": [],
   "source": [
    "def get_stopwords():\n",
    "    stop_words = []\n",
    "    with open(os.getcwd() + \"/util\" + \"/sinhala_stopwords.txt\", 'r') as f:\n",
    "        for word in f:\n",
    "            stop_words.append(word.strip())\n",
    "    return stop_words"
   ]
  },
  {
   "cell_type": "code",
   "execution_count": 117,
   "metadata": {},
   "outputs": [
    {
     "data": {
      "text/plain": [
       "{'acknowledged': True}"
      ]
     },
     "execution_count": 117,
     "metadata": {},
     "output_type": "execute_result"
    }
   ],
   "source": [
    "es_connection = Elasticsearch('http://localhost:9200')\n",
    "es_connection.indices.delete(index=\"artists-*\")"
   ]
  },
  {
   "cell_type": "code",
   "execution_count": 118,
   "metadata": {},
   "outputs": [],
   "source": [
    "stopwords = get_stopwords()\n",
    "mapping = {\n",
    "    \"settings\" : {\n",
    "        \"analysis\" : {\n",
    "            \"analyzer\" : {\n",
    "                \"sinhala_analyzer\" : {\n",
    "                    \"type\": \"standard\",\n",
    "                    \"stopwords\": stopwords\n",
    "                }\n",
    "            }\n",
    "        } \n",
    "    },\n",
    "    \"aliases\": { \n",
    "        \"artists\": { \n",
    "            \"is_write_index\": True \n",
    "        }\n",
    "    },\n",
    "    \"mappings\" : {\n",
    "        \"properties\" : {\n",
    "            \"awards\" : {\n",
    "                \"properties\" : {\n",
    "                    \"instituition\" : {\n",
    "                        \"type\" : \"text\",\n",
    "                        \"analyzer\" : \"sinhala_analyzer\",\n",
    "                        \"fields\" : {\n",
    "                            \"keyword\" : {\n",
    "                                \"type\" : \"keyword\",\n",
    "                                \"ignore_above\" : 256\n",
    "                            }\n",
    "                        }\n",
    "                    },\n",
    "                    \"title\" : {\n",
    "                        \"type\" : \"text\",\n",
    "                        \"analyzer\" : \"sinhala_analyzer\",\n",
    "                        \"fields\" : {\n",
    "                            \"keyword\" : {\n",
    "                                \"type\" : \"keyword\",\n",
    "                                \"ignore_above\" : 256\n",
    "                            }\n",
    "                        }\n",
    "                    }\n",
    "                }\n",
    "            },\n",
    "            \"bio\" : {\n",
    "                \"type\" : \"text\",\n",
    "                \"analyzer\" : \"sinhala_analyzer\"\n",
    "            },\n",
    "            \"birth\" : {\n",
    "                \"type\" : \"text\",\n",
    "                \"analyzer\" : \"sinhala_analyzer\",\n",
    "            },\n",
    "            \"death\" : {\n",
    "                \"type\" : \"text\",\n",
    "                \"analyzer\" : \"sinhala_analyzer\",\n",
    "            },\n",
    "            \"films\" : {\n",
    "                \"properties\" : {\n",
    "                    \"role\" : {\n",
    "                        \"type\" : \"text\",\n",
    "                        \"analyzer\" : \"sinhala_analyzer\",\n",
    "                        \"fields\" : {\n",
    "                            \"keyword\" : {\n",
    "                                \"type\" : \"keyword\",\n",
    "                                \"ignore_above\" : 256\n",
    "                            }\n",
    "                        }\n",
    "                    },\n",
    "                    \"title\" : {\n",
    "                        \"type\" : \"text\",\n",
    "                        \"analyzer\" : \"sinhala_analyzer\",\n",
    "                        \"fields\" : {\n",
    "                            \"keyword\" : {\n",
    "                                \"type\" : \"keyword\",\n",
    "                                \"ignore_above\" : 256\n",
    "                            }\n",
    "                        }\n",
    "                    },\n",
    "                    \"year\" : {\n",
    "                      \"type\" : \"long\"\n",
    "                    }\n",
    "                }\n",
    "            },\n",
    "            \"id\" : {\n",
    "                \"type\" : \"long\"\n",
    "            },\n",
    "            \"name\" : {\n",
    "                \"type\" : \"text\",\n",
    "                \"analyzer\" : \"sinhala_analyzer\",\n",
    "                \"fields\" : {\n",
    "                    \"keyword\" : {\n",
    "                        \"type\" : \"keyword\",\n",
    "                        \"ignore_above\" : 256\n",
    "                    }\n",
    "                }\n",
    "            },\n",
    "            \"real_name\" : {\n",
    "                \"type\" : \"text\",\n",
    "                \"analyzer\" : \"sinhala_analyzer\",\n",
    "                \"fields\" : {\n",
    "                    \"keyword\" : {\n",
    "                      \"type\" : \"keyword\",\n",
    "                      \"ignore_above\" : 256\n",
    "                    }\n",
    "                }\n",
    "            }\n",
    "      }\n",
    "    }\n",
    "}"
   ]
  },
  {
   "cell_type": "code",
   "execution_count": 119,
   "metadata": {},
   "outputs": [
    {
     "data": {
      "text/plain": [
       "{'acknowledged': True, 'shards_acknowledged': True, 'index': 'artists-000001'}"
      ]
     },
     "execution_count": 119,
     "metadata": {},
     "output_type": "execute_result"
    }
   ],
   "source": [
    "es_connection.indices.create(index=\"artists-000001\", body=mapping)"
   ]
  },
  {
   "cell_type": "code",
   "execution_count": 120,
   "metadata": {},
   "outputs": [
    {
     "data": {
      "text/plain": [
       "True"
      ]
     },
     "execution_count": 120,
     "metadata": {},
     "output_type": "execute_result"
    }
   ],
   "source": [
    "artist_data = load_json_file(os.getcwd() + '/corpus/artists.json')\n",
    "bulk_insert_data_to_es(es_connection, artist_data, \"artists\")"
   ]
  },
  {
   "cell_type": "code",
   "execution_count": null,
   "metadata": {},
   "outputs": [],
   "source": []
  }
 ],
 "metadata": {
  "kernelspec": {
   "display_name": "Python 3 (ipykernel)",
   "language": "python",
   "name": "python3"
  },
  "language_info": {
   "codemirror_mode": {
    "name": "ipython",
    "version": 3
   },
   "file_extension": ".py",
   "mimetype": "text/x-python",
   "name": "python",
   "nbconvert_exporter": "python",
   "pygments_lexer": "ipython3",
   "version": "3.8.12"
  }
 },
 "nbformat": 4,
 "nbformat_minor": 4
}
